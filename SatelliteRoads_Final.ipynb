{
 "cells": [
  {
   "cell_type": "markdown",
   "id": "a0c08cec",
   "metadata": {},
   "source": [
    "Script to generate an algortihm for detecting roads in satellite imagery. \n",
    "\n",
    "\n",
    "    https://www.kaggle.com/balraj98/deepglobe-road-extraction-dataset\n",
    "        \n",
    "        and\n",
    "        \n",
    "    https://www.kaggle.com/vanvalkenberg/road-maps-from-aerial-images\n",
    "        \n",
    "\n",
    "\n",
    "\n",
    "\n",
    "@InProceedings{DeepGlobe18,\n",
    " author = {Demir, Ilke and Koperski, Krzysztof and Lindenbaum, David and Pang, Guan and Huang, Jing and Basu, Saikat and Hughes, Forest and Tuia, Devis and Raskar, Ramesh},\n",
    " title = {DeepGlobe 2018: A Challenge to Parse the Earth Through Satellite Images},\n",
    " booktitle = {The IEEE Conference on Computer Vision and Pattern Recognition (CVPR) Workshops},\n",
    " month = {June},\n",
    " year = {2018}\n",
    "}    "
   ]
  },
  {
   "cell_type": "code",
   "execution_count": 1,
   "id": "6e85cf72",
   "metadata": {},
   "outputs": [],
   "source": [
    "# Import libraries\n",
    "import os\n",
    "import sys\n",
    "import numpy as np\n",
    "import re\n",
    "import cv2\n",
    "import matplotlib.pyplot as plt\n",
    "import tensorflow as tf\n",
    "\n",
    "from tensorflow.keras.models import Sequential, save_model, load_model\n",
    "from keras.preprocessing import image\n",
    "from PIL import Image"
   ]
  },
  {
   "cell_type": "code",
   "execution_count": 2,
   "id": "286cc5d3",
   "metadata": {},
   "outputs": [],
   "source": [
    "# Defining function for dataloading function.\n",
    "\n",
    "framObjTrain = {'img' : [],\n",
    "           'mask' : []\n",
    "          }\n",
    "\n",
    "def LoadData( frameObj = None, imgPath = None, maskPath = None, shape = 256):\n",
    "    imgNames = os.listdir(imgPath)\n",
    "    maskNames = []\n",
    "    \n",
    "    ## generating mask names\n",
    "    for mem in imgNames:\n",
    "        mem = mem.split('_')[0]\n",
    "        if mem not in maskNames:\n",
    "            maskNames.append(mem)\n",
    "    \n",
    "    imgAddr = imgPath + '/'\n",
    "    maskAddr = maskPath + '/'\n",
    "    \n",
    "    for i in range (len(imgNames)):\n",
    "        try:\n",
    "            img = plt.imread(imgAddr + maskNames[i] + '_sat.jpg') \n",
    "            mask = plt.imread(maskAddr + maskNames[i] + '_mask.png')\n",
    "            \n",
    "        except:\n",
    "            continue\n",
    "        img = cv2.resize(img, (shape, shape))\n",
    "        mask = cv2.resize(mask, (shape, shape))\n",
    "        frameObj['img'].append(img)\n",
    "        frameObj['mask'].append(mask[:,:,0]) # this is because its a binary mask and img is present in channel 0\n",
    "        \n",
    "    return frameObj"
   ]
  },
  {
   "cell_type": "code",
   "execution_count": 3,
   "id": "853f685b",
   "metadata": {},
   "outputs": [],
   "source": [
    "# defining Conv2d block for our u-net\n",
    "# this block essentially performs 2 convolution\n",
    "\n",
    "def Conv2dBlock(inputTensor, numFilters, kernelSize = 3, doBatchNorm = True):\n",
    "    #first Conv\n",
    "    x = tf.keras.layers.Conv2D(filters = numFilters, kernel_size = (kernelSize, kernelSize),\n",
    "                              kernel_initializer = 'he_normal', padding = 'same') (inputTensor)\n",
    "    \n",
    "    if doBatchNorm:\n",
    "        x = tf.keras.layers.BatchNormalization()(x)\n",
    "        \n",
    "    x =tf.keras.layers.Activation('relu')(x)\n",
    "    \n",
    "    #Second Conv\n",
    "    x = tf.keras.layers.Conv2D(filters = numFilters, kernel_size = (kernelSize, kernelSize),\n",
    "                              kernel_initializer = 'he_normal', padding = 'same') (x)\n",
    "    if doBatchNorm:\n",
    "        x = tf.keras.layers.BatchNormalization()(x)\n",
    "        \n",
    "    x = tf.keras.layers.Activation('relu')(x)\n",
    "    \n",
    "    return x\n",
    "\n",
    "\n",
    "\n",
    "# Now defining Unet \n",
    "def GiveMeUnet(inputImage, numFilters = 16, droupouts = 0.1, doBatchNorm = True):\n",
    "    # defining encoder Path\n",
    "    c1 = Conv2dBlock(inputImage, numFilters * 1, kernelSize = 3, doBatchNorm = doBatchNorm)\n",
    "    p1 = tf.keras.layers.MaxPooling2D((2,2))(c1)\n",
    "    p1 = tf.keras.layers.Dropout(droupouts)(p1)\n",
    "    \n",
    "    c2 = Conv2dBlock(p1, numFilters * 2, kernelSize = 3, doBatchNorm = doBatchNorm)\n",
    "    p2 = tf.keras.layers.MaxPooling2D((2,2))(c2)\n",
    "    p2 = tf.keras.layers.Dropout(droupouts)(p2)\n",
    "    \n",
    "    c3 = Conv2dBlock(p2, numFilters * 4, kernelSize = 3, doBatchNorm = doBatchNorm)\n",
    "    p3 = tf.keras.layers.MaxPooling2D((2,2))(c3)\n",
    "    p3 = tf.keras.layers.Dropout(droupouts)(p3)\n",
    "    \n",
    "    c4 = Conv2dBlock(p3, numFilters * 8, kernelSize = 3, doBatchNorm = doBatchNorm)\n",
    "    p4 = tf.keras.layers.MaxPooling2D((2,2))(c4)\n",
    "    p4 = tf.keras.layers.Dropout(droupouts)(p4)\n",
    "    \n",
    "    c5 = Conv2dBlock(p4, numFilters * 16, kernelSize = 3, doBatchNorm = doBatchNorm)\n",
    "    \n",
    "    # defining decoder path\n",
    "    u6 = tf.keras.layers.Conv2DTranspose(numFilters*8, (3, 3), strides = (2, 2), padding = 'same')(c5)\n",
    "    u6 = tf.keras.layers.concatenate([u6, c4])\n",
    "    u6 = tf.keras.layers.Dropout(droupouts)(u6)\n",
    "    c6 = Conv2dBlock(u6, numFilters * 8, kernelSize = 3, doBatchNorm = doBatchNorm)\n",
    "    \n",
    "    u7 = tf.keras.layers.Conv2DTranspose(numFilters*4, (3, 3), strides = (2, 2), padding = 'same')(c6)\n",
    "    u7 = tf.keras.layers.concatenate([u7, c3])\n",
    "    u7 = tf.keras.layers.Dropout(droupouts)(u7)\n",
    "    c7 = Conv2dBlock(u7, numFilters * 4, kernelSize = 3, doBatchNorm = doBatchNorm)\n",
    "    \n",
    "    u8 = tf.keras.layers.Conv2DTranspose(numFilters*2, (3, 3), strides = (2, 2), padding = 'same')(c7)\n",
    "    u8 = tf.keras.layers.concatenate([u8, c2])\n",
    "    u8 = tf.keras.layers.Dropout(droupouts)(u8)\n",
    "    c8 = Conv2dBlock(u8, numFilters * 2, kernelSize = 3, doBatchNorm = doBatchNorm)\n",
    "    \n",
    "    u9 = tf.keras.layers.Conv2DTranspose(numFilters*1, (3, 3), strides = (2, 2), padding = 'same')(c8)\n",
    "    u9 = tf.keras.layers.concatenate([u9, c1])\n",
    "    u9 = tf.keras.layers.Dropout(droupouts)(u9)\n",
    "    c9 = Conv2dBlock(u9, numFilters * 1, kernelSize = 3, doBatchNorm = doBatchNorm)\n",
    "    \n",
    "    output = tf.keras.layers.Conv2D(1, (1, 1), activation = 'sigmoid')(c9)\n",
    "    model = tf.keras.Model(inputs = [inputImage], outputs = [output])\n",
    "    return model"
   ]
  },
  {
   "cell_type": "code",
   "execution_count": 4,
   "id": "b4323f56",
   "metadata": {},
   "outputs": [
    {
     "name": "stderr",
     "output_type": "stream",
     "text": [
      "2021-07-29 11:58:24.634185: I tensorflow/core/platform/cpu_feature_guard.cc:142] This TensorFlow binary is optimized with oneAPI Deep Neural Network Library (oneDNN) to use the following CPU instructions in performance-critical operations:  AVX2 FMA\n",
      "To enable them in other operations, rebuild TensorFlow with the appropriate compiler flags.\n"
     ]
    }
   ],
   "source": [
    "## Create model\n",
    "\n",
    "inputs = tf.keras.layers.Input((256,256,3))\n",
    "unet = GiveMeUnet(inputs, droupouts= 0.07)\n",
    "unet.compile(optimizer = 'Adam', loss = 'binary_crossentropy', metrics = ['accuracy'] )"
   ]
  },
  {
   "cell_type": "code",
   "execution_count": 5,
   "id": "42fd8bd9",
   "metadata": {},
   "outputs": [
    {
     "name": "stdout",
     "output_type": "stream",
     "text": [
      "('You must install pydot (`pip install pydot`) and install graphviz (see instructions at https://graphviz.gitlab.io/download/) ', 'for plot_model/model_to_dot to work.')\n"
     ]
    }
   ],
   "source": [
    "from keras.utils.vis_utils import plot_model\n",
    "plot_model(unet, to_file='UnetArchitecture.png', show_shapes=True, show_layer_names=True)"
   ]
  },
  {
   "cell_type": "code",
   "execution_count": null,
   "id": "6c3d8e6d",
   "metadata": {},
   "outputs": [],
   "source": [
    "framObjTrain = LoadData( framObjTrain, imgPath = './deepglobe-road-extraction-dataset/train', \n",
    "                        maskPath = './deepglobe-road-extraction-dataset/train'\n",
    "                         , shape = 256)"
   ]
  },
  {
   "cell_type": "code",
   "execution_count": null,
   "id": "8d441055",
   "metadata": {},
   "outputs": [],
   "source": [
    "## displaying data loaded by our function\n",
    "plt.subplot(1,2,1)\n",
    "plt.imshow(framObjTrain['img'][1])\n",
    "plt.subplot(1,2,2)\n",
    "plt.imshow(framObjTrain['mask'][1])\n",
    "plt.show()"
   ]
  },
  {
   "cell_type": "code",
   "execution_count": null,
   "id": "0d071144",
   "metadata": {},
   "outputs": [],
   "source": [
    "retVal = unet.fit(np.array(framObjTrain['img']), np.array(framObjTrain['mask']), epochs = 1, verbose = 1)"
   ]
  },
  {
   "cell_type": "code",
   "execution_count": null,
   "id": "f3437409",
   "metadata": {},
   "outputs": [],
   "source": [
    "plt.plot(retVal.history['loss'], label = 'training_loss')\n",
    "plt.plot(retVal.history['accuracy'], label = 'training_accuracy')\n",
    "plt.legend()\n",
    "plt.grid(True)"
   ]
  },
  {
   "cell_type": "code",
   "execution_count": null,
   "id": "a5f5b6fa",
   "metadata": {},
   "outputs": [],
   "source": [
    "def predict16 (valMap, model, shape = 256):\n",
    "    ## getting and proccessing val data\n",
    "    img = valMap['img'][0:16]\n",
    "    mask = valMap['mask'][0:16]\n",
    "    #mask = mask[0:16]\n",
    "    \n",
    "    imgProc = img [0:16]\n",
    "    imgProc = np.array(img)\n",
    "    \n",
    "    predictions = model.predict(imgProc)\n",
    "  \n",
    "\n",
    "    return predictions, imgProc, mask\n",
    "\n",
    "\n",
    "def Plotter(img, predMask, groundTruth):\n",
    "    plt.figure(figsize=(9,9))\n",
    "    \n",
    "    plt.subplot(1,3,1)\n",
    "    plt.imshow(img)\n",
    "    plt.title('Aerial image')\n",
    "    \n",
    "    plt.subplot(1,3,2)\n",
    "    plt.imshow(predMask)\n",
    "    plt.title('Predicted Routes')\n",
    "    \n",
    "    plt.subplot(1,3,3)\n",
    "    plt.imshow(groundTruth)\n",
    "    plt.title('Actual Routes')"
   ]
  },
  {
   "cell_type": "code",
   "execution_count": null,
   "id": "0dc601f8",
   "metadata": {},
   "outputs": [],
   "source": [
    "sixteenPrediction, actuals, masks = predict16(framObjTrain, unet)"
   ]
  },
  {
   "cell_type": "code",
   "execution_count": null,
   "id": "c0d7b6c5",
   "metadata": {},
   "outputs": [],
   "source": [
    "Plotter(actuals[2], sixteenPrediction[2][:,:,0], masks[2])"
   ]
  },
  {
   "cell_type": "code",
   "execution_count": null,
   "id": "5fb305b9",
   "metadata": {},
   "outputs": [],
   "source": [
    "unet.save('RouteGenerator.h5')"
   ]
  },
  {
   "cell_type": "code",
   "execution_count": null,
   "id": "ee82c97f",
   "metadata": {},
   "outputs": [],
   "source": [
    "model = load_model('RouteGenerator.h5', compile = True)"
   ]
  },
  {
   "cell_type": "code",
   "execution_count": null,
   "id": "620b64b6",
   "metadata": {},
   "outputs": [],
   "source": [
    "# From https://github.com/karolzak/keras-unet/issues/46\n",
    "\n",
    "image = np.array(Image.open('./deepglobe-road-extraction-dataset/real_world/Holmen.jpg').resize((256, 256)))\n",
    "images_list = []\n",
    "images_list.append(np.array(image))\n",
    "x = np.asarray(images_list)\n",
    "pr_mask = model.predict(x).round()\n",
    "\n",
    "\n",
    "plt.figure(figsize=(20,20))\n",
    "\n",
    "plt.subplot(1,2,1)\n",
    "plt.imshow(pr_mask[0])\n",
    "plt.title('Predicted Routes')\n",
    "\n",
    "\n",
    "plt.subplot(1,2,2)\n",
    "plt.imshow(image)\n",
    "plt.title('Actual Routes')\n",
    "plt.show()\n"
   ]
  },
  {
   "cell_type": "code",
   "execution_count": null,
   "id": "ef499dad",
   "metadata": {},
   "outputs": [],
   "source": []
  }
 ],
 "metadata": {
  "kernelspec": {
   "display_name": "Python 3 (ipykernel)",
   "language": "python",
   "name": "python3"
  },
  "language_info": {
   "codemirror_mode": {
    "name": "ipython",
    "version": 3
   },
   "file_extension": ".py",
   "mimetype": "text/x-python",
   "name": "python",
   "nbconvert_exporter": "python",
   "pygments_lexer": "ipython3",
   "version": "3.9.5"
  }
 },
 "nbformat": 4,
 "nbformat_minor": 5
}
